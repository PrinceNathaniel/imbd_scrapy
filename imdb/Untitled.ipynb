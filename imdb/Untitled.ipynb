{
 "cells": [
  {
   "cell_type": "code",
   "execution_count": 1,
   "metadata": {
    "collapsed": true
   },
   "outputs": [],
   "source": [
    "a='http://www.imdb.com/search/title?release_date=1999-01-01,2000-01-01&page=2&ref_=adv_nxt'"
   ]
  },
  {
   "cell_type": "code",
   "execution_count": 6,
   "metadata": {},
   "outputs": [
    {
     "ename": "SyntaxError",
     "evalue": "Generator expression must be parenthesized if not sole argument (<ipython-input-6-a02cd7e49998>, line 4)",
     "output_type": "error",
     "traceback": [
      "\u001b[0;36m  File \u001b[0;32m\"<ipython-input-6-a02cd7e49998>\"\u001b[0;36m, line \u001b[0;32m4\u001b[0m\n\u001b[0;31m    b=['http://www.imdb.com/search/title?release_date=%s-01-01,%s-01-01&page=%s&ref_=adv_nxt'%s (year1,year2,page for page in range(0,5))]\u001b[0m\n\u001b[0;31mSyntaxError\u001b[0m\u001b[0;31m:\u001b[0m Generator expression must be parenthesized if not sole argument\n"
     ]
    }
   ],
   "source": [
    "for i in range(0,20):\n",
    "    year1=1998+i\n",
    "    year2=1999+i\n",
    "    b=['http://www.imdb.com/search/title?release_date=%s-01-01,%s-01-01&page=%s&ref_=adv_nxt'%s (year1,year2,page for page in range(0,5))]\n",
    "    \n",
    "    \n"
   ]
  }
 ],
 "metadata": {
  "kernelspec": {
   "display_name": "Python 3",
   "language": "python",
   "name": "python3"
  },
  "language_info": {
   "codemirror_mode": {
    "name": "ipython",
    "version": 2
   },
   "file_extension": ".py",
   "mimetype": "text/x-python",
   "name": "python",
   "nbconvert_exporter": "python",
   "pygments_lexer": "ipython2",
   "version": "2.7.14"
  }
 },
 "nbformat": 4,
 "nbformat_minor": 2
}
