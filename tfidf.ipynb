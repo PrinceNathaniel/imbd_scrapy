{
 "cells": [
  {
   "cell_type": "code",
   "execution_count": 1,
   "metadata": {},
   "outputs": [
    {
     "name": "stderr",
     "output_type": "stream",
     "text": [
      "/home/yicong/anaconda3/lib/python3.6/site-packages/sklearn/cross_validation.py:44: DeprecationWarning: This module was deprecated in version 0.18 in favor of the model_selection module into which all the refactored classes and functions are moved. Also note that the interface of the new CV iterators are different from that of this module. This module will be removed in 0.20.\n",
      "  \"This module will be removed in 0.20.\", DeprecationWarning)\n"
     ]
    }
   ],
   "source": [
    "import pandas as pd\n",
    "import itertools\n",
    "from sklearn.model_selection import cross_val_score,GridSearchCV\n",
    "from sklearn.cross_validation import train_test_split\n",
    "from sklearn.feature_extraction.text import TfidfVectorizer\n",
    "from sklearn.ensemble import RandomForestClassifier\n",
    "from sklearn.metrics import roc_auc_score,confusion_matrix,accuracy_score\n",
    "from sklearn import metrics\n",
    "import numpy as np\n",
    "import matplotlib.pyplot as plt\n",
    "from sklearn.naive_bayes import BernoulliNB\n",
    "from sklearn.linear_model import LogisticRegression"
   ]
  },
  {
   "cell_type": "code",
   "execution_count": 2,
   "metadata": {
    "collapsed": true
   },
   "outputs": [],
   "source": [
    "data=pd.read_csv('data/data2.csv')"
   ]
  },
  {
   "cell_type": "code",
   "execution_count": 3,
   "metadata": {},
   "outputs": [
    {
     "data": {
      "text/html": [
       "<div>\n",
       "<style>\n",
       "    .dataframe thead tr:only-child th {\n",
       "        text-align: right;\n",
       "    }\n",
       "\n",
       "    .dataframe thead th {\n",
       "        text-align: left;\n",
       "    }\n",
       "\n",
       "    .dataframe tbody tr th {\n",
       "        vertical-align: top;\n",
       "    }\n",
       "</style>\n",
       "<table border=\"1\" class=\"dataframe\">\n",
       "  <thead>\n",
       "    <tr style=\"text-align: right;\">\n",
       "      <th></th>\n",
       "      <th>Unnamed: 0</th>\n",
       "      <th>Review</th>\n",
       "      <th>Rank</th>\n",
       "      <th>Year</th>\n",
       "      <th>class</th>\n",
       "    </tr>\n",
       "  </thead>\n",
       "  <tbody>\n",
       "    <tr>\n",
       "      <th>0</th>\n",
       "      <td>1</td>\n",
       "      <td>Law &amp; Order: Special Victims Unit is one of th...</td>\n",
       "      <td>10</td>\n",
       "      <td>2005</td>\n",
       "      <td>1</td>\n",
       "    </tr>\n",
       "    <tr>\n",
       "      <th>1</th>\n",
       "      <td>2</td>\n",
       "      <td>I started out liking this. But by season 5, it...</td>\n",
       "      <td>1</td>\n",
       "      <td>2016</td>\n",
       "      <td>0</td>\n",
       "    </tr>\n",
       "    <tr>\n",
       "      <th>2</th>\n",
       "      <td>3</td>\n",
       "      <td>This show used to be OK, but over the last cou...</td>\n",
       "      <td>2</td>\n",
       "      <td>2011</td>\n",
       "      <td>0</td>\n",
       "    </tr>\n",
       "    <tr>\n",
       "      <th>3</th>\n",
       "      <td>4</td>\n",
       "      <td>In the dictionary of American TV jargon, this ...</td>\n",
       "      <td>1</td>\n",
       "      <td>2010</td>\n",
       "      <td>0</td>\n",
       "    </tr>\n",
       "    <tr>\n",
       "      <th>4</th>\n",
       "      <td>5</td>\n",
       "      <td>In the past I liked it often, with the New Yor...</td>\n",
       "      <td>1</td>\n",
       "      <td>2015</td>\n",
       "      <td>0</td>\n",
       "    </tr>\n",
       "  </tbody>\n",
       "</table>\n",
       "</div>"
      ],
      "text/plain": [
       "   Unnamed: 0                                             Review  Rank  Year  \\\n",
       "0           1  Law & Order: Special Victims Unit is one of th...    10  2005   \n",
       "1           2  I started out liking this. But by season 5, it...     1  2016   \n",
       "2           3  This show used to be OK, but over the last cou...     2  2011   \n",
       "3           4  In the dictionary of American TV jargon, this ...     1  2010   \n",
       "4           5  In the past I liked it often, with the New Yor...     1  2015   \n",
       "\n",
       "   class  \n",
       "0      1  \n",
       "1      0  \n",
       "2      0  \n",
       "3      0  \n",
       "4      0  "
      ]
     },
     "execution_count": 3,
     "metadata": {},
     "output_type": "execute_result"
    }
   ],
   "source": [
    "data.head(5)"
   ]
  },
  {
   "cell_type": "code",
   "execution_count": 8,
   "metadata": {},
   "outputs": [
    {
     "name": "stdout",
     "output_type": "stream",
     "text": [
      "2570\n",
      "3081\n"
     ]
    }
   ],
   "source": [
    "data2007=data.loc[data['Year']==2007]\n",
    "data2017=data.loc[data['Year']==2017]\n",
    "print(len(data2007))\n",
    "print(len(data2017))\n"
   ]
  },
  {
   "cell_type": "code",
   "execution_count": 48,
   "metadata": {
    "collapsed": true
   },
   "outputs": [],
   "source": [
    "x2007=data2007['Review']\n",
    "y2007=data2007['class']\n",
    "x2017=data2017['Review']\n",
    "y2017=data2017['class']\n",
    "x2007train,x2007test,y2007train,y2007test=train_test_split(x2007,y2007,test_size=0.25)\n",
    "x2017train,x2017test,y2017train,y2017test=train_test_split(x2017,y2017,test_size=0.25)"
   ]
  },
  {
   "cell_type": "code",
   "execution_count": 10,
   "metadata": {},
   "outputs": [
    {
     "data": {
      "text/plain": [
       "TfidfVectorizer(analyzer='word', binary=True, decode_error='strict',\n",
       "        dtype=<class 'numpy.int64'>, encoding='utf-8', input='content',\n",
       "        lowercase=True, max_df=1.0, max_features=None, min_df=1,\n",
       "        ngram_range=(1, 2), norm='l2', preprocessor=None, smooth_idf=True,\n",
       "        stop_words='english', strip_accents=None, sublinear_tf=False,\n",
       "        token_pattern='(?u)\\\\b\\\\w\\\\w+\\\\b', tokenizer=None, use_idf=True,\n",
       "        vocabulary=None)"
      ]
     },
     "execution_count": 10,
     "metadata": {},
     "output_type": "execute_result"
    }
   ],
   "source": [
    "tfidf_vectorizer2007=TfidfVectorizer(stop_words='english',ngram_range=(1,2),binary=True)\n",
    "tfidf_vectorizer2007.fit(x2007train)\n",
    "tfidf_vectorizer2017=TfidfVectorizer(stop_words='english',ngram_range=(1,2),binary=True)\n",
    "tfidf_vectorizer2017.fit(x2017train)"
   ]
  },
  {
   "cell_type": "code",
   "execution_count": 51,
   "metadata": {
    "collapsed": true
   },
   "outputs": [],
   "source": [
    "word2007=tfidf_vectorizer2007.transform(x2007train)\n",
    "features=tfidf_vectorizer2007.get_feature_names()\n",
    "word2007test=tfidf_vectorizer2007.transform(x2007test)"
   ]
  },
  {
   "cell_type": "code",
   "execution_count": 68,
   "metadata": {
    "collapsed": true
   },
   "outputs": [],
   "source": [
    "word2017=tfidf_vectorizer2017.transform(x2017train)\n",
    "features2=tfidf_vectorizer2017.get_feature_names()\n",
    "word2017test=tfidf_vectorizer2017.transform(x2017test)"
   ]
  },
  {
   "cell_type": "code",
   "execution_count": 104,
   "metadata": {},
   "outputs": [
    {
     "data": {
      "text/plain": [
       "RandomForestClassifier(bootstrap=True, class_weight=None, criterion='gini',\n",
       "            max_depth=None, max_features='auto', max_leaf_nodes=None,\n",
       "            min_impurity_split=1e-07, min_samples_leaf=1,\n",
       "            min_samples_split=2, min_weight_fraction_leaf=0.0,\n",
       "            n_estimators=10, n_jobs=1, oob_score=False, random_state=None,\n",
       "            verbose=0, warm_start=False)"
      ]
     },
     "execution_count": 104,
     "metadata": {},
     "output_type": "execute_result"
    }
   ],
   "source": [
    "model1 = RandomForestClassifier()\n",
    "model1.fit(word2007,y2007train)\n",
    "model2=RandomForestClassifier()\n",
    "model2.fit(word2017,y2017train)"
   ]
  },
  {
   "cell_type": "code",
   "execution_count": 72,
   "metadata": {
    "collapsed": true
   },
   "outputs": [],
   "source": [
    "imp=model1.feature_importances_\n",
    "names=features\n",
    "imp2=model2.feature_importances_\n",
    "names2=features2"
   ]
  },
  {
   "cell_type": "code",
   "execution_count": 105,
   "metadata": {},
   "outputs": [
    {
     "data": {
      "text/plain": [
       "0.65474339035769824"
      ]
     },
     "execution_count": 105,
     "metadata": {},
     "output_type": "execute_result"
    }
   ],
   "source": [
    "model1.score(word2007test,y2007test)"
   ]
  },
  {
   "cell_type": "code",
   "execution_count": 92,
   "metadata": {},
   "outputs": [
    {
     "data": {
      "text/plain": [
       "LogisticRegression(C=1.0, class_weight=None, dual=False, fit_intercept=True,\n",
       "          intercept_scaling=1, max_iter=100, multi_class='ovr', n_jobs=1,\n",
       "          penalty='l2', random_state=None, solver='liblinear', tol=0.0001,\n",
       "          verbose=0, warm_start=False)"
      ]
     },
     "execution_count": 92,
     "metadata": {},
     "output_type": "execute_result"
    }
   ],
   "source": [
    "model3=BernoulliNB()\n",
    "model3.fit(word2007,y2007train)\n",
    "model4=LogisticRegression()\n",
    "model4.fit(word2007,y2007train)"
   ]
  },
  {
   "cell_type": "code",
   "execution_count": 98,
   "metadata": {
    "collapsed": true
   },
   "outputs": [],
   "source": [
    "fpr1,tpr1,thresholds1 = metrics.roc_curve(y2007test,model1.predict_proba(word2007test)[:,1])\n",
    "fpr2,tpr2,thresholds2 = metrics.roc_curve(y2007test,model3.predict_proba(word2007test)[:,1])\n",
    "fpr3,tpr3,thresholds3 = metrics.roc_curve(y2007test,model4.predict_proba(word2007test)[:,1])"
   ]
  },
  {
   "cell_type": "code",
   "execution_count": 99,
   "metadata": {},
   "outputs": [
    {
     "data": {
      "image/png": "[encoded data removed]",
      "text/plain": [
       "<matplotlib.figure.Figure at 0xaa9dfcac>"
      ]
     },
     "metadata": {},
     "output_type": "display_data"
    }
   ],
   "source": [
    "ax=plt.subplot()\n",
    "plt.plot(fpr1,tpr1,label='random forest')\n",
    "plt.plot(fpr2,tpr2,label='bernoulli')\n",
    "plt.plot(fpr3,tpr3,label='logistic regression')\n",
    "\n",
    "plt.title('ROC curves')\n",
    "plt.xlabel('fpr')\n",
    "plt.ylabel('tpr')\n",
    "plt.xlim([0,1])\n",
    "plt.ylim([0,1])\n",
    "\n",
    "plt.legend(loc='lower right')\n",
    "plt.show()"
   ]
  },
  {
   "cell_type": "code",
   "execution_count": 9,
   "metadata": {
    "collapsed": true
   },
   "outputs": [],
   "source": [
    "def year_importance(year):\n",
    "    stryear=str(year)\n",
    "    data_year=data.loc[data['Year']==year]\n",
    "    x=data_year['Review']\n",
    "    y=data_year['class']\n",
    "    #xtrain,xtest,ytrain,ytest=train_test_split(x,y,test_size=0.10)\n",
    "    tfidf_vectorizer=TfidfVectorizer(stop_words='english',ngram_range=(1,2),binary=True)\n",
    "    tfidf_vectorizer.fit(x)\n",
    "    word=tfidf_vectorizer.transform(x)\n",
    "    names=tfidf_vectorizer.get_feature_names()\n",
    "    model = RandomForestClassifier()\n",
    "    model.fit(word,y)\n",
    "    imp=model.feature_importances_\n",
    "    topn_ids = np.argsort(imp)[::-1][:100]\n",
    "    top_feats = [(names[i],imp[i]) for i in topn_ids]\n",
    "    df=pd.DataFrame(top_feats)\n",
    "    df.columns = ['feature',stryear]\n",
    "    return df\n"
   ]
  },
  {
   "cell_type": "code",
   "execution_count": 11,
   "metadata": {},
   "outputs": [],
   "source": [
    "for year in range(1999,2018):\n",
    "    dataframe=year_importance(year)\n",
    "    stryear=str(year)\n",
    "    filename=stryear+'.csv'\n",
    "    dataframe.to_csv(filename)\n",
    "\n",
    "    "
   ]
  }
 ],
 "metadata": {
  "kernelspec": {
   "display_name": "Python 3",
   "language": "python",
   "name": "python3"
  },
  "language_info": {
   "codemirror_mode": {
    "name": "ipython",
    "version": 3
   },
   "file_extension": ".py",
   "mimetype": "text/x-python",
   "name": "python",
   "nbconvert_exporter": "python",
   "pygments_lexer": "ipython3",
   "version": "3.6.1"
  }
 },
 "nbformat": 4,
 "nbformat_minor": 2
}
